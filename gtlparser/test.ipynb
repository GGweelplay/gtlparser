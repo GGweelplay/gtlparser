{
 "cells": [
  {
   "cell_type": "code",
   "execution_count": null,
   "metadata": {},
   "outputs": [],
   "source": [
    "import gtlparser\n",
    "\n",
    "# from gtlparser import foliumap"
   ]
  },
  {
   "cell_type": "code",
   "execution_count": null,
   "metadata": {},
   "outputs": [],
   "source": [
    "import foliumap"
   ]
  },
  {
   "cell_type": "code",
   "execution_count": null,
   "metadata": {},
   "outputs": [],
   "source": [
    "test_map = foliumap.Map()"
   ]
  },
  {
   "cell_type": "code",
   "execution_count": null,
   "metadata": {},
   "outputs": [],
   "source": [
    "test_map.add_layer_control()"
   ]
  },
  {
   "cell_type": "code",
   "execution_count": null,
   "metadata": {},
   "outputs": [],
   "source": [
    "# test_point = gpd.read_file(r\"C:\\Users\\tiger\\OneDrive\\PhD\\Spring_2024\\GEOG517\\Final_Project\\GeoJSON\\point_2023_Dec.geojson\")\n",
    "# test_polygon = gpd.read_file(\n",
    "#     \"https://github.com/opengeos/datasets/releases/download/world/countries.geojson\"\n",
    "# )\n",
    "test_map.add_vector(\n",
    "    \"https://github.com/opengeos/datasets/releases/download/world/countries.geojson\"\n",
    ")"
   ]
  },
  {
   "cell_type": "code",
   "execution_count": null,
   "metadata": {},
   "outputs": [],
   "source": [
    "test_map.add_basemap(basemap=\"Cartodb Positron\")\n",
    "test_map.add_basemap(basemap=\"OpenStreetMap\")"
   ]
  },
  {
   "cell_type": "code",
   "execution_count": null,
   "metadata": {},
   "outputs": [],
   "source": [
    "test_map"
   ]
  },
  {
   "cell_type": "code",
   "execution_count": 5,
   "metadata": {},
   "outputs": [],
   "source": [
    "import gtlparser"
   ]
  },
  {
   "cell_type": "code",
   "execution_count": null,
   "metadata": {},
   "outputs": [],
   "source": [
    "import os\n",
    "import ipyleaflet\n",
    "import ipywidgets as widgets"
   ]
  },
  {
   "cell_type": "code",
   "execution_count": null,
   "metadata": {},
   "outputs": [],
   "source": [
    "options = [\n",
    "    \"OpenStreetMap.Mapnik\",\n",
    "    \"OpenTopoMap\",\n",
    "    \"Esri.WorldImagery\",\n",
    "    \"CartoDB.DarkMatter\",\n",
    "]\n",
    "toggle = widgets.ToggleButton(\n",
    "    value=True,\n",
    "    button_style=\"\",\n",
    "    tooltip=\"Click me\",\n",
    "    icon=\"map\",\n",
    ")\n",
    "toggle.layout = widgets.Layout(width=\"38px\", height=\"38px\")\n",
    "dropdown = widgets.Dropdown(\n",
    "    options=options,\n",
    "    value=options[0],\n",
    "    description=\"Basemap: \",\n",
    "    style={\"description_width\": \"initial\"},\n",
    ")\n",
    "dropdown.layout = widgets.Layout(width=\"250px\", height=\"38px\")\n",
    "\n",
    "button = widgets.Button(\n",
    "    icon=\"times\",\n",
    ")\n",
    "button.layout = widgets.Layout(width=\"38px\", height=\"38px\")\n",
    "\n",
    "hbox = widgets.HBox([toggle, dropdown, button])"
   ]
  },
  {
   "cell_type": "code",
   "execution_count": null,
   "metadata": {},
   "outputs": [],
   "source": [
    "control = ipyleaflet.WidgetControl(widget=hbox, position=\"topright\")"
   ]
  },
  {
   "cell_type": "code",
   "execution_count": 6,
   "metadata": {},
   "outputs": [
    {
     "data": {
      "application/vnd.jupyter.widget-view+json": {
       "model_id": "da73c7176ab64b19b8c11f6230571c1e",
       "version_major": 2,
       "version_minor": 0
      },
      "text/plain": [
       "Map(center=[20, 0], controls=(ZoomControl(options=['position', 'zoom_in_text', 'zoom_in_title', 'zoom_out_text…"
      ]
     },
     "execution_count": 6,
     "metadata": {},
     "output_type": "execute_result"
    }
   ],
   "source": [
    "cool_map = gtlparser.Map()\n",
    "cool_map.add_basemap_gui(position=\"topright\")\n",
    "cool_map.add_layer_control()\n",
    "cool_map.add_search_control(position=\"topleft\")\n",
    "cool_map"
   ]
  },
  {
   "cell_type": "code",
   "execution_count": 4,
   "metadata": {},
   "outputs": [
    {
     "ename": "NameError",
     "evalue": "name 'gtlparser' is not defined",
     "output_type": "error",
     "traceback": [
      "\u001b[31m---------------------------------------------------------------------------\u001b[39m",
      "\u001b[31mNameError\u001b[39m                                 Traceback (most recent call last)",
      "\u001b[36mCell\u001b[39m\u001b[36m \u001b[39m\u001b[32mIn[4]\u001b[39m\u001b[32m, line 1\u001b[39m\n\u001b[32m----> \u001b[39m\u001b[32m1\u001b[39m map2 = \u001b[43mgtlparser\u001b[49m.Map()\n\u001b[32m      2\u001b[39m map2.add_WMS_layer(url=\u001b[33m\"\u001b[39m\u001b[33mhttps://services.terrascope.be/wms/v2?\u001b[39m\u001b[33m\"\u001b[39m, layers=\u001b[33m\"\u001b[39m\u001b[33mWORLDCOVER_2021_MAP\u001b[39m\u001b[33m\"\u001b[39m, name=\u001b[33m\"\u001b[39m\u001b[33mWORLDCOVER_2021_MAP\u001b[39m\u001b[33m\"\u001b[39m)\n\u001b[32m      3\u001b[39m map2.add_legend(title=\u001b[33m\"\u001b[39m\u001b[33mNLCD Land Cover Type\u001b[39m\u001b[33m\"\u001b[39m, builtin_legend=\u001b[33m\"\u001b[39m\u001b[33mNLCD\u001b[39m\u001b[33m\"\u001b[39m)\n",
      "\u001b[31mNameError\u001b[39m: name 'gtlparser' is not defined"
     ]
    }
   ],
   "source": [
    "map2 = gtlparser.Map()\n",
    "map2.add_WMS_layer(\n",
    "    url=\"https://services.terrascope.be/wms/v2?\",\n",
    "    layers=\"WORLDCOVER_2021_MAP\",\n",
    "    name=\"WORLDCOVER_2021_MAP\",\n",
    ")\n",
    "map2.add_legend(title=\"NLCD Land Cover Type\", builtin_legend=\"NLCD\")\n",
    "map2"
   ]
  },
  {
   "cell_type": "code",
   "execution_count": 2,
   "metadata": {},
   "outputs": [
    {
     "data": {
      "application/vnd.jupyter.widget-view+json": {
       "model_id": "38b527cfc73e46da98dd87df5b64a704",
       "version_major": 2,
       "version_minor": 0
      },
      "text/plain": [
       "Map(center=[20, 0], controls=(ZoomControl(options=['position', 'zoom_in_text', 'zoom_in_title', 'zoom_out_text…"
      ]
     },
     "execution_count": 2,
     "metadata": {},
     "output_type": "execute_result"
    }
   ],
   "source": [
    "import leafmap\n",
    "\n",
    "m = leafmap.Map()\n",
    "\n",
    "wms_url = \"https://services.terrascope.be/wms/v2?\"\n",
    "layer_name = \"WORLDCOVER_2021_MAP\"\n",
    "\n",
    "m.add_wms_layer(\n",
    "    url=wms_url,\n",
    "    layers=layer_name,\n",
    "    name=\"ESA World Cover 2021\",\n",
    "    format=\"image/png\",\n",
    "    transparent=True,\n",
    "    shown=True,\n",
    "    version=\"1.3.0\",\n",
    ")\n",
    "\n",
    "m.add_legend(builtin_legend=\"ESA_WorldCover\")\n",
    "m"
   ]
  },
  {
   "cell_type": "code",
   "execution_count": null,
   "metadata": {},
   "outputs": [
    {
     "data": {
      "application/vnd.jupyter.widget-view+json": {
       "model_id": "6d47815885084c6986242a9b4f0e0385",
       "version_major": 2,
       "version_minor": 0
      },
      "text/plain": [
       "Map(center=[20, 0], controls=(ZoomControl(options=['position', 'zoom_in_text', 'zoom_in_title', 'zoom_out_text…"
      ]
     },
     "execution_count": 3,
     "metadata": {},
     "output_type": "execute_result"
    }
   ],
   "source": [
    "import leafmap\n",
    "import geopandas as gpd\n",
    "import pandas as pd  # geopandas relies on pandas\n",
    "\n",
    "geojson_url = \"https://github.com/opengeos/datasets/releases/download/places/wa_building_centroids.geojson\"\n",
    "\n",
    "gdf = gpd.read_file(geojson_url)\n",
    "\n",
    "gdf\n",
    "gdf[\"longitude\"] = gdf.geometry.x\n",
    "gdf[\"latitude\"] = gdf.geometry.y\n",
    "\n",
    "\n",
    "map3 = leafmap.Map()\n",
    "# map3.add_basemap('HYBRID')\n",
    "\n",
    "# map3.add_marker_cluster(\n",
    "#     gdf,                  # Your GeoDataFrame\n",
    "#     x=\"longitude\",        # Column name for longitude\n",
    "#     y=\"latitude\",         # Column name for latitude\n",
    "# )\n",
    "map3"
   ]
  },
  {
   "cell_type": "code",
   "execution_count": 8,
   "metadata": {},
   "outputs": [
    {
     "data": {
      "application/vnd.jupyter.widget-view+json": {
       "model_id": "d740c323f36948489236a6ea9d939665",
       "version_major": 2,
       "version_minor": 0
      },
      "text/plain": [
       "Map(center=[20, 0], controls=(ZoomControl(options=['position', 'zoom_in_text', 'zoom_in_title', 'zoom_out_text…"
      ]
     },
     "execution_count": 8,
     "metadata": {},
     "output_type": "execute_result"
    }
   ],
   "source": [
    "map3_2 = leafmap.Map()\n",
    "map3_2.add_circle_markers_from_xy(\n",
    "    gdf,  # Your GeoDataFrame\n",
    "    x=\"longitude\",  # Column name for longitude\n",
    "    y=\"latitude\",  # Column name for latitude\n",
    "    radius=5,  # Radius of the circles\n",
    "    color=\"red\",  # Outline color\n",
    "    fill_color=\"yellow\",  # Fill color\n",
    "    fill_opacity=0.8,  # Fill opacity\n",
    "    marker_cluster=True,  # Enable marker clustering\n",
    ")\n",
    "map3_2"
   ]
  },
  {
   "cell_type": "code",
   "execution_count": null,
   "metadata": {},
   "outputs": [
    {
     "name": "stdout",
     "output_type": "stream",
     "text": [
      "OpenStreetMap has been already added before.\n"
     ]
    },
    {
     "data": {
      "application/vnd.jupyter.widget-view+json": {
       "model_id": "38b527cfc73e46da98dd87df5b64a704",
       "version_major": 2,
       "version_minor": 0
      },
      "text/plain": [
       "Map(center=[20, 0], controls=(ZoomControl(options=['position', 'zoom_in_text', 'zoom_in_title', 'zoom_out_text…"
      ]
     },
     "execution_count": 9,
     "metadata": {},
     "output_type": "execute_result"
    }
   ],
   "source": [
    "import leafmap\n",
    "\n",
    "geojson_url = \"https://github.com/opengeos/datasets/releases/download/places/wa_overture_buildings.geojson\"\n",
    "\n",
    "map4_1 = leafmap.Map()\n",
    "\n",
    "map4_1.add_basemap(\"HYBRID\")\n",
    "\n",
    "geojson_style = {\n",
    "    \"color\": \"red\",\n",
    "    \"weight\": 2,\n",
    "    \"fillOpacity\": 0,\n",
    "}\n",
    "\n",
    "m.add_geojson(\n",
    "    geojson_url,\n",
    "    style=geojson_style,\n",
    "    layer_name=\"Washington Buildings\",  # A name for the layer in the layer control\n",
    ")\n",
    "\n",
    "m"
   ]
  },
  {
   "cell_type": "code",
   "execution_count": 11,
   "metadata": {},
   "outputs": [
    {
     "data": {
      "application/vnd.jupyter.widget-view+json": {
       "model_id": "eafc58a223c9495dbbe15043b7a340ce",
       "version_major": 2,
       "version_minor": 0
      },
      "text/plain": [
       "Map(center=[20, 0], controls=(ZoomControl(options=['position', 'zoom_in_text', 'zoom_in_title', 'zoom_out_text…"
      ]
     },
     "execution_count": 11,
     "metadata": {},
     "output_type": "execute_result"
    }
   ],
   "source": [
    "geojson_url = \"https://github.com/opengeos/datasets/releases/download/places/las_vegas_roads.geojson\"\n",
    "\n",
    "map4_2 = leafmap.Map()\n",
    "\n",
    "geojson_style = {\n",
    "    \"color\": \"red\",\n",
    "    \"weight\": 2,\n",
    "}\n",
    "\n",
    "map4_2.add_geojson(\n",
    "    geojson_url,\n",
    "    style=geojson_style,\n",
    "    layer_name=\"Las Vegas Roads\",  # A name for the layer in the layer control\n",
    ")\n",
    "\n",
    "map4_2"
   ]
  },
  {
   "cell_type": "code",
   "execution_count": 2,
   "metadata": {},
   "outputs": [
    {
     "data": {
      "application/vnd.jupyter.widget-view+json": {
       "model_id": "a0883bde598043809e4d8b58e77a6be9",
       "version_major": 2,
       "version_minor": 0
      },
      "text/plain": [
       "Map(center=[40, -98], controls=(ZoomControl(options=['position', 'zoom_in_text', 'zoom_in_title', 'zoom_out_te…"
      ]
     },
     "execution_count": 2,
     "metadata": {},
     "output_type": "execute_result"
    }
   ],
   "source": [
    "import leafmap\n",
    "\n",
    "map4_3_data = (\n",
    "    \"https://github.com/opengeos/datasets/releases/download/us/us_counties.geojson\"\n",
    ")\n",
    "\n",
    "map4_3 = leafmap.Map(center=(40, -98), zoom=4)\n",
    "\n",
    "map4_3.add_data(\n",
    "    map4_3_data,\n",
    "    layer_name=\"US County Area (Census)\",\n",
    "    column=\"CENSUSAREA\",\n",
    "    scheme=\"EqualInterval\",\n",
    "    cmap=\"Blues\",\n",
    "    legend=True,\n",
    "    legend_title=\"Census Area (sq mi)\",\n",
    ")\n",
    "\n",
    "map4_3"
   ]
  },
  {
   "cell_type": "code",
   "execution_count": 3,
   "metadata": {},
   "outputs": [
    {
     "data": {
      "application/vnd.jupyter.widget-view+json": {
       "model_id": "1c1d08aac7f24efc9ba892934d4dacaf",
       "version_major": 2,
       "version_minor": 0
      },
      "text/plain": [
       "Map(center=[20, 0], controls=(ZoomControl(options=['position', 'zoom_in_text', 'zoom_in_title', 'zoom_out_text…"
      ]
     },
     "execution_count": 3,
     "metadata": {},
     "output_type": "execute_result"
    }
   ],
   "source": [
    "pre_event_url = (\n",
    "    \"https://github.com/opengeos/datasets/releases/download/raster/Libya-2023-07-01.tif\"\n",
    ")\n",
    "post_event_url = (\n",
    "    \"https://github.com/opengeos/datasets/releases/download/raster/Libya-2023-09-13.tif\"\n",
    ")\n",
    "\n",
    "map5 = leafmap.Map()\n",
    "\n",
    "leafmap.split_map(left_layer=pre_event_url, right_layer=post_event_url)\n",
    "\n",
    "map5"
   ]
  },
  {
   "cell_type": "code",
   "execution_count": null,
   "metadata": {},
   "outputs": [],
   "source": [
    "cool_map = gtlparser.Map()\n",
    "cool_map.add_basemap(basemap=\"OpenStreetMap\")\n",
    "cool_map.add_google_maps()"
   ]
  },
  {
   "cell_type": "code",
   "execution_count": null,
   "metadata": {},
   "outputs": [],
   "source": [
    "cool_map.add_vector(\n",
    "    \"https://github.com/opengeos/datasets/releases/download/world/countries.geojson\"\n",
    ")\n",
    "\n",
    "\n",
    "# if zoom_to_layer:\n",
    "#             bounds = gdf.total_bounds\n",
    "#             self.fit_bounds([[bounds[1], bounds[0]], [bounds[3], bounds[2]]])"
   ]
  },
  {
   "cell_type": "code",
   "execution_count": 8,
   "metadata": {},
   "outputs": [
    {
     "ename": "ImportError",
     "evalue": "DLL load failed while importing _vsiopener: The specified procedure could not be found.",
     "output_type": "error",
     "traceback": [
      "\u001b[1;31m---------------------------------------------------------------------------\u001b[0m",
      "\u001b[1;31mImportError\u001b[0m                               Traceback (most recent call last)",
      "Cell \u001b[1;32mIn[8], line 1\u001b[0m\n\u001b[1;32m----> 1\u001b[0m \u001b[43mcool_map\u001b[49m\u001b[38;5;241;43m.\u001b[39;49m\u001b[43madd_raster\u001b[49m\u001b[43m(\u001b[49m\n\u001b[0;32m      2\u001b[0m \u001b[43m    \u001b[49m\u001b[38;5;124;43m\"\u001b[39;49m\u001b[38;5;124;43mhttps://github.com/opengeos/data/releases/download/raster/Libya-2023-07-01.tif\u001b[39;49m\u001b[38;5;124;43m\"\u001b[39;49m\n\u001b[0;32m      3\u001b[0m \u001b[43m)\u001b[49m\n",
      "File \u001b[1;32mc:\\Users\\tiger\\OneDrive\\PhD\\Spring_2025\\GEOG510\\gtlparser\\gtlparser\\gtlparser.py:268\u001b[0m, in \u001b[0;36mMap.add_raster\u001b[1;34m(self, filepath, colormap, opacity, **kwargs)\u001b[0m\n\u001b[0;32m    259\u001b[0m \u001b[38;5;28;01mdef\u001b[39;00m\u001b[38;5;250m \u001b[39m\u001b[38;5;21madd_raster\u001b[39m(\u001b[38;5;28mself\u001b[39m, filepath, colormap\u001b[38;5;241m=\u001b[39m\u001b[38;5;124m\"\u001b[39m\u001b[38;5;124mviridis\u001b[39m\u001b[38;5;124m\"\u001b[39m, opacity\u001b[38;5;241m=\u001b[39m\u001b[38;5;241m1.0\u001b[39m, \u001b[38;5;241m*\u001b[39m\u001b[38;5;241m*\u001b[39mkwargs):\n\u001b[0;32m    260\u001b[0m \u001b[38;5;250m    \u001b[39m\u001b[38;5;124;03m\"\"\"Adds a raster layer to the map.\u001b[39;00m\n\u001b[0;32m    261\u001b[0m \n\u001b[0;32m    262\u001b[0m \u001b[38;5;124;03m    Args:\u001b[39;00m\n\u001b[1;32m   (...)\u001b[0m\n\u001b[0;32m    266\u001b[0m \u001b[38;5;124;03m        **kwargs: Additional keyword arguments for the ipyleaflet.ImageOverlay layer.\u001b[39;00m\n\u001b[0;32m    267\u001b[0m \u001b[38;5;124;03m    \"\"\"\u001b[39;00m\n\u001b[1;32m--> 268\u001b[0m     \u001b[38;5;28;01mfrom\u001b[39;00m\u001b[38;5;250m \u001b[39m\u001b[38;5;21;01mlocaltileserver\u001b[39;00m\u001b[38;5;250m \u001b[39m\u001b[38;5;28;01mimport\u001b[39;00m TileClient, get_leaflet_tile_layer\n\u001b[0;32m    270\u001b[0m     client \u001b[38;5;241m=\u001b[39m TileClient(filepath)\n\u001b[0;32m    271\u001b[0m     tile_layer \u001b[38;5;241m=\u001b[39m get_leaflet_tile_layer(\n\u001b[0;32m    272\u001b[0m         client, colormap\u001b[38;5;241m=\u001b[39mcolormap, opacity\u001b[38;5;241m=\u001b[39mopacity, \u001b[38;5;241m*\u001b[39m\u001b[38;5;241m*\u001b[39mkwargs\n\u001b[0;32m    273\u001b[0m     )\n",
      "File \u001b[1;32mc:\\Users\\tiger\\.conda\\envs\\GTL\\Lib\\site-packages\\localtileserver\\__init__.py:3\u001b[0m\n\u001b[0;32m      1\u001b[0m \u001b[38;5;66;03m# flake8: noqa: F401\u001b[39;00m\n\u001b[0;32m      2\u001b[0m \u001b[38;5;28;01mfrom\u001b[39;00m\u001b[38;5;250m \u001b[39m\u001b[38;5;21;01mlocaltileserver\u001b[39;00m\u001b[38;5;21;01m.\u001b[39;00m\u001b[38;5;21;01m_version\u001b[39;00m\u001b[38;5;250m \u001b[39m\u001b[38;5;28;01mimport\u001b[39;00m __version__\n\u001b[1;32m----> 3\u001b[0m \u001b[38;5;28;01mfrom\u001b[39;00m\u001b[38;5;250m \u001b[39m\u001b[38;5;21;01mlocaltileserver\u001b[39;00m\u001b[38;5;21;01m.\u001b[39;00m\u001b[38;5;21;01mclient\u001b[39;00m\u001b[38;5;250m \u001b[39m\u001b[38;5;28;01mimport\u001b[39;00m TileClient, get_or_create_tile_client\n\u001b[0;32m      4\u001b[0m \u001b[38;5;28;01mfrom\u001b[39;00m\u001b[38;5;250m \u001b[39m\u001b[38;5;21;01mlocaltileserver\u001b[39;00m\u001b[38;5;21;01m.\u001b[39;00m\u001b[38;5;21;01mhelpers\u001b[39;00m\u001b[38;5;250m \u001b[39m\u001b[38;5;28;01mimport\u001b[39;00m hillshade, parse_shapely, polygon_to_geojson, save_new_raster\n\u001b[0;32m      5\u001b[0m \u001b[38;5;28;01mfrom\u001b[39;00m\u001b[38;5;250m \u001b[39m\u001b[38;5;21;01mlocaltileserver\u001b[39;00m\u001b[38;5;21;01m.\u001b[39;00m\u001b[38;5;21;01mreport\u001b[39;00m\u001b[38;5;250m \u001b[39m\u001b[38;5;28;01mimport\u001b[39;00m Report\n",
      "File \u001b[1;32mc:\\Users\\tiger\\.conda\\envs\\GTL\\Lib\\site-packages\\localtileserver\\client.py:8\u001b[0m\n\u001b[0;32m      5\u001b[0m \u001b[38;5;28;01mfrom\u001b[39;00m\u001b[38;5;250m \u001b[39m\u001b[38;5;21;01mtyping\u001b[39;00m\u001b[38;5;250m \u001b[39m\u001b[38;5;28;01mimport\u001b[39;00m List, Optional, Union\n\u001b[0;32m      7\u001b[0m \u001b[38;5;28;01mfrom\u001b[39;00m\u001b[38;5;250m \u001b[39m\u001b[38;5;21;01mmatplotlib\u001b[39;00m\u001b[38;5;21;01m.\u001b[39;00m\u001b[38;5;21;01mcolors\u001b[39;00m\u001b[38;5;250m \u001b[39m\u001b[38;5;28;01mimport\u001b[39;00m Colormap, ListedColormap\n\u001b[1;32m----> 8\u001b[0m \u001b[38;5;28;01mimport\u001b[39;00m\u001b[38;5;250m \u001b[39m\u001b[38;5;21;01mrasterio\u001b[39;00m\n\u001b[0;32m      9\u001b[0m \u001b[38;5;28;01mimport\u001b[39;00m\u001b[38;5;250m \u001b[39m\u001b[38;5;21;01mrequests\u001b[39;00m\n\u001b[0;32m     10\u001b[0m \u001b[38;5;28;01mfrom\u001b[39;00m\u001b[38;5;250m \u001b[39m\u001b[38;5;21;01mrio_tiler\u001b[39;00m\u001b[38;5;21;01m.\u001b[39;00m\u001b[38;5;21;01mio\u001b[39;00m\u001b[38;5;250m \u001b[39m\u001b[38;5;28;01mimport\u001b[39;00m Reader\n",
      "File \u001b[1;32mc:\\Users\\tiger\\.conda\\envs\\GTL\\Lib\\site-packages\\rasterio\\__init__.py:27\u001b[0m\n\u001b[0;32m     25\u001b[0m \u001b[38;5;28;01mfrom\u001b[39;00m\u001b[38;5;250m \u001b[39m\u001b[38;5;21;01mrasterio\u001b[39;00m\u001b[38;5;21;01m.\u001b[39;00m\u001b[38;5;21;01m_base\u001b[39;00m\u001b[38;5;250m \u001b[39m\u001b[38;5;28;01mimport\u001b[39;00m DatasetBase\n\u001b[0;32m     26\u001b[0m \u001b[38;5;28;01mfrom\u001b[39;00m\u001b[38;5;250m \u001b[39m\u001b[38;5;21;01mrasterio\u001b[39;00m\u001b[38;5;21;01m.\u001b[39;00m\u001b[38;5;21;01m_io\u001b[39;00m\u001b[38;5;250m \u001b[39m\u001b[38;5;28;01mimport\u001b[39;00m Statistics\n\u001b[1;32m---> 27\u001b[0m \u001b[38;5;28;01mfrom\u001b[39;00m\u001b[38;5;250m \u001b[39m\u001b[38;5;21;01mrasterio\u001b[39;00m\u001b[38;5;21;01m.\u001b[39;00m\u001b[38;5;21;01m_vsiopener\u001b[39;00m\u001b[38;5;250m \u001b[39m\u001b[38;5;28;01mimport\u001b[39;00m _opener_registration\n\u001b[0;32m     28\u001b[0m \u001b[38;5;28;01mfrom\u001b[39;00m\u001b[38;5;250m \u001b[39m\u001b[38;5;21;01mrasterio\u001b[39;00m\u001b[38;5;21;01m.\u001b[39;00m\u001b[38;5;21;01m_show_versions\u001b[39;00m\u001b[38;5;250m \u001b[39m\u001b[38;5;28;01mimport\u001b[39;00m show_versions\n\u001b[0;32m     29\u001b[0m \u001b[38;5;28;01mfrom\u001b[39;00m\u001b[38;5;250m \u001b[39m\u001b[38;5;21;01mrasterio\u001b[39;00m\u001b[38;5;21;01m.\u001b[39;00m\u001b[38;5;21;01m_version\u001b[39;00m\u001b[38;5;250m \u001b[39m\u001b[38;5;28;01mimport\u001b[39;00m gdal_version, get_geos_version, get_proj_version\n",
      "\u001b[1;31mImportError\u001b[0m: DLL load failed while importing _vsiopener: The specified procedure could not be found."
     ]
    }
   ],
   "source": [
    "cool_map.add_raster(\n",
    "    \"https://github.com/opengeos/data/releases/download/raster/Libya-2023-07-01.tif\"\n",
    ")"
   ]
  },
  {
   "cell_type": "code",
   "execution_count": null,
   "metadata": {},
   "outputs": [],
   "source": [
    "cool_map"
   ]
  },
  {
   "cell_type": "code",
   "execution_count": null,
   "metadata": {},
   "outputs": [],
   "source": [
    "m = foliumap.Map(height=600, center=[39.4948, -108.5492])\n",
    "# url = \"https://github.com/opengeos/data/releases/download/raster/Libya-2023-07-01.tif\"\n",
    "# url2 = \"https://github.com/opengeos/data/releases/download/raster/Libya-2023-09-13.tif\"\n",
    "m.add_split_map()\n",
    "m"
   ]
  },
  {
   "cell_type": "code",
   "execution_count": null,
   "metadata": {},
   "outputs": [],
   "source": [
    "import rasterio"
   ]
  },
  {
   "cell_type": "code",
   "execution_count": null,
   "metadata": {},
   "outputs": [],
   "source": []
  }
 ],
 "metadata": {
  "kernelspec": {
   "display_name": "Python 3",
   "language": "python",
   "name": "python3"
  },
  "language_info": {
   "codemirror_mode": {
    "name": "ipython",
    "version": 3
   },
   "file_extension": ".py",
   "mimetype": "text/x-python",
   "name": "python",
   "nbconvert_exporter": "python",
   "pygments_lexer": "ipython3",
   "version": "3.12.0"
  }
 },
 "nbformat": 4,
 "nbformat_minor": 2
}
