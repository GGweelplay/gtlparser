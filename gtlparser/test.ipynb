{
 "cells": [
  {
   "cell_type": "code",
   "execution_count": 6,
   "metadata": {},
   "outputs": [],
   "source": [
    "import gtlparser\n",
    "import gtl2geojson\n",
    "\n",
    "# from gtlparser import foliumap"
   ]
  },
  {
   "cell_type": "code",
   "execution_count": null,
   "metadata": {},
   "outputs": [],
   "source": [
    "import foliumap"
   ]
  },
  {
   "cell_type": "code",
   "execution_count": 4,
   "metadata": {},
   "outputs": [
    {
     "ename": "AttributeError",
     "evalue": "module 'gtlparser' has no attribute 'parse_visitPoint'",
     "output_type": "error",
     "traceback": [
      "\u001b[31m---------------------------------------------------------------------------\u001b[39m",
      "\u001b[31mAttributeError\u001b[39m                            Traceback (most recent call last)",
      "\u001b[36mCell\u001b[39m\u001b[36m \u001b[39m\u001b[32mIn[4]\u001b[39m\u001b[32m, line 2\u001b[39m\n\u001b[32m      1\u001b[39m in_json = \u001b[33m\"\u001b[39m\u001b[33mC:/Users/tiger/OneDrive/PhD/Spring_2025/GEOG510/Timeline.json\u001b[39m\u001b[33m\"\u001b[39m\n\u001b[32m----> \u001b[39m\u001b[32m2\u001b[39m \u001b[43mgtlparser\u001b[49m\u001b[43m.\u001b[49m\u001b[43mparse_visitPoint\u001b[49m(in_json, flag_allField=\u001b[32m1\u001b[39m)\n",
      "\u001b[31mAttributeError\u001b[39m: module 'gtlparser' has no attribute 'parse_visitPoint'"
     ]
    }
   ],
   "source": [
    "in_json = \"C:/Users/tiger/OneDrive/PhD/Spring_2025/GEOG510/Timeline.json\"\n",
    "gtlparser.parse_visitPoint(in_json, flag_allField=1)"
   ]
  },
  {
   "cell_type": "code",
   "execution_count": null,
   "metadata": {},
   "outputs": [],
   "source": [
    "test_map = foliumap.Map()"
   ]
  },
  {
   "cell_type": "code",
   "execution_count": null,
   "metadata": {},
   "outputs": [],
   "source": [
    "test_map.add_layer_control()"
   ]
  },
  {
   "cell_type": "code",
   "execution_count": null,
   "metadata": {},
   "outputs": [],
   "source": [
    "# test_point = gpd.read_file(r\"C:\\Users\\tiger\\OneDrive\\PhD\\Spring_2024\\GEOG517\\Final_Project\\GeoJSON\\point_2023_Dec.geojson\")\n",
    "# test_polygon = gpd.read_file(\n",
    "#     \"https://github.com/opengeos/datasets/releases/download/world/countries.geojson\"\n",
    "# )\n",
    "test_map.add_vector(\n",
    "    \"https://github.com/opengeos/datasets/releases/download/world/countries.geojson\"\n",
    ")"
   ]
  },
  {
   "cell_type": "code",
   "execution_count": null,
   "metadata": {},
   "outputs": [],
   "source": [
    "test_map.add_basemap(basemap=\"Cartodb Positron\")\n",
    "test_map.add_basemap(basemap=\"OpenStreetMap\")"
   ]
  },
  {
   "cell_type": "code",
   "execution_count": null,
   "metadata": {},
   "outputs": [],
   "source": [
    "test_map"
   ]
  },
  {
   "cell_type": "code",
   "execution_count": null,
   "metadata": {},
   "outputs": [],
   "source": [
    "import gtlparser"
   ]
  },
  {
   "cell_type": "code",
   "execution_count": null,
   "metadata": {},
   "outputs": [],
   "source": [
    "import os\n",
    "import ipyleaflet\n",
    "import ipywidgets as widgets"
   ]
  },
  {
   "cell_type": "code",
   "execution_count": null,
   "metadata": {},
   "outputs": [],
   "source": [
    "options = [\n",
    "    \"OpenStreetMap.Mapnik\",\n",
    "    \"OpenTopoMap\",\n",
    "    \"Esri.WorldImagery\",\n",
    "    \"CartoDB.DarkMatter\",\n",
    "]\n",
    "toggle = widgets.ToggleButton(\n",
    "    value=True,\n",
    "    button_style=\"\",\n",
    "    tooltip=\"Click me\",\n",
    "    icon=\"map\",\n",
    ")\n",
    "toggle.layout = widgets.Layout(width=\"38px\", height=\"38px\")\n",
    "dropdown = widgets.Dropdown(\n",
    "    options=options,\n",
    "    value=options[0],\n",
    "    description=\"Basemap: \",\n",
    "    style={\"description_width\": \"initial\"},\n",
    ")\n",
    "dropdown.layout = widgets.Layout(width=\"250px\", height=\"38px\")\n",
    "\n",
    "button = widgets.Button(\n",
    "    icon=\"times\",\n",
    ")\n",
    "button.layout = widgets.Layout(width=\"38px\", height=\"38px\")\n",
    "\n",
    "hbox = widgets.HBox([toggle, dropdown, button])"
   ]
  },
  {
   "cell_type": "code",
   "execution_count": null,
   "metadata": {},
   "outputs": [],
   "source": [
    "control = ipyleaflet.WidgetControl(widget=hbox, position=\"topright\")"
   ]
  },
  {
   "cell_type": "code",
   "execution_count": null,
   "metadata": {},
   "outputs": [],
   "source": [
    "cool_map = gtlparser.Map()\n",
    "cool_map.add_basemap_gui(position=\"topright\")\n",
    "cool_map.add_layer_control()\n",
    "cool_map.add_search_control(position=\"topleft\")\n",
    "cool_map"
   ]
  },
  {
   "cell_type": "code",
   "execution_count": null,
   "metadata": {},
   "outputs": [],
   "source": [
    "map2 = gtlparser.Map()\n",
    "map2.add_WMS_layer(\n",
    "    url=\"https://services.terrascope.be/wms/v2?\",\n",
    "    layers=\"WORLDCOVER_2021_MAP\",\n",
    "    name=\"WORLDCOVER_2021_MAP\",\n",
    ")\n",
    "map2.add_legend(title=\"NLCD Land Cover Type\", builtin_legend=\"NLCD\")\n",
    "map2"
   ]
  },
  {
   "cell_type": "code",
   "execution_count": null,
   "metadata": {},
   "outputs": [],
   "source": [
    "import leafmap\n",
    "\n",
    "m = leafmap.Map()\n",
    "\n",
    "wms_url = \"https://services.terrascope.be/wms/v2?\"\n",
    "layer_name = \"WORLDCOVER_2021_MAP\"\n",
    "\n",
    "m.add_wms_layer(\n",
    "    url=wms_url,\n",
    "    layers=layer_name,\n",
    "    name=\"ESA World Cover 2021\",\n",
    "    format=\"image/png\",\n",
    "    transparent=True,\n",
    "    shown=True,\n",
    "    version=\"1.3.0\",\n",
    ")\n",
    "\n",
    "m.add_legend(builtin_legend=\"ESA_WorldCover\")\n",
    "m"
   ]
  },
  {
   "cell_type": "code",
   "execution_count": null,
   "metadata": {},
   "outputs": [],
   "source": [
    "import leafmap\n",
    "import geopandas as gpd\n",
    "import pandas as pd  # geopandas relies on pandas\n",
    "\n",
    "geojson_url = \"https://github.com/opengeos/datasets/releases/download/places/wa_building_centroids.geojson\"\n",
    "\n",
    "gdf = gpd.read_file(geojson_url)\n",
    "\n",
    "gdf\n",
    "gdf[\"longitude\"] = gdf.geometry.x\n",
    "gdf[\"latitude\"] = gdf.geometry.y\n",
    "\n",
    "\n",
    "map3 = leafmap.Map()\n",
    "# map3.add_basemap('HYBRID')\n",
    "\n",
    "# map3.add_marker_cluster(\n",
    "#     gdf,                  # Your GeoDataFrame\n",
    "#     x=\"longitude\",        # Column name for longitude\n",
    "#     y=\"latitude\",         # Column name for latitude\n",
    "# )\n",
    "map3"
   ]
  },
  {
   "cell_type": "code",
   "execution_count": null,
   "metadata": {},
   "outputs": [],
   "source": [
    "map3_2 = leafmap.Map()\n",
    "map3_2.add_circle_markers_from_xy(\n",
    "    gdf,  # Your GeoDataFrame\n",
    "    x=\"longitude\",  # Column name for longitude\n",
    "    y=\"latitude\",  # Column name for latitude\n",
    "    radius=5,  # Radius of the circles\n",
    "    color=\"red\",  # Outline color\n",
    "    fill_color=\"yellow\",  # Fill color\n",
    "    fill_opacity=0.8,  # Fill opacity\n",
    "    marker_cluster=True,  # Enable marker clustering\n",
    ")\n",
    "map3_2"
   ]
  },
  {
   "cell_type": "code",
   "execution_count": null,
   "metadata": {},
   "outputs": [],
   "source": [
    "import leafmap\n",
    "\n",
    "geojson_url = \"https://github.com/opengeos/datasets/releases/download/places/wa_overture_buildings.geojson\"\n",
    "\n",
    "map4_1 = leafmap.Map()\n",
    "\n",
    "map4_1.add_basemap(\"HYBRID\")\n",
    "\n",
    "geojson_style = {\n",
    "    \"color\": \"red\",\n",
    "    \"weight\": 2,\n",
    "    \"fillOpacity\": 0,\n",
    "}\n",
    "\n",
    "m.add_geojson(\n",
    "    geojson_url,\n",
    "    style=geojson_style,\n",
    "    layer_name=\"Washington Buildings\",  # A name for the layer in the layer control\n",
    ")\n",
    "\n",
    "m"
   ]
  },
  {
   "cell_type": "code",
   "execution_count": null,
   "metadata": {},
   "outputs": [],
   "source": [
    "geojson_url = \"https://github.com/opengeos/datasets/releases/download/places/las_vegas_roads.geojson\"\n",
    "\n",
    "map4_2 = leafmap.Map()\n",
    "\n",
    "geojson_style = {\n",
    "    \"color\": \"red\",\n",
    "    \"weight\": 2,\n",
    "}\n",
    "\n",
    "map4_2.add_geojson(\n",
    "    geojson_url,\n",
    "    style=geojson_style,\n",
    "    layer_name=\"Las Vegas Roads\",  # A name for the layer in the layer control\n",
    ")\n",
    "\n",
    "map4_2"
   ]
  },
  {
   "cell_type": "code",
   "execution_count": null,
   "metadata": {},
   "outputs": [],
   "source": [
    "import leafmap\n",
    "\n",
    "map4_3_data = (\n",
    "    \"https://github.com/opengeos/datasets/releases/download/us/us_counties.geojson\"\n",
    ")\n",
    "\n",
    "map4_3 = leafmap.Map(center=(40, -98), zoom=4)\n",
    "\n",
    "map4_3.add_data(\n",
    "    map4_3_data,\n",
    "    layer_name=\"US County Area (Census)\",\n",
    "    column=\"CENSUSAREA\",\n",
    "    scheme=\"EqualInterval\",\n",
    "    cmap=\"Blues\",\n",
    "    legend=True,\n",
    "    legend_title=\"Census Area (sq mi)\",\n",
    ")\n",
    "\n",
    "map4_3"
   ]
  },
  {
   "cell_type": "code",
   "execution_count": null,
   "metadata": {},
   "outputs": [],
   "source": [
    "pre_event_url = (\n",
    "    \"https://github.com/opengeos/datasets/releases/download/raster/Libya-2023-07-01.tif\"\n",
    ")\n",
    "post_event_url = (\n",
    "    \"https://github.com/opengeos/datasets/releases/download/raster/Libya-2023-09-13.tif\"\n",
    ")\n",
    "\n",
    "map5 = leafmap.Map()\n",
    "\n",
    "leafmap.split_map(left_layer=pre_event_url, right_layer=post_event_url)\n",
    "\n",
    "map5"
   ]
  },
  {
   "cell_type": "code",
   "execution_count": null,
   "metadata": {},
   "outputs": [],
   "source": [
    "cool_map = gtlparser.Map()\n",
    "cool_map.add_basemap(basemap=\"OpenStreetMap\")\n",
    "cool_map.add_google_maps()"
   ]
  },
  {
   "cell_type": "code",
   "execution_count": null,
   "metadata": {},
   "outputs": [],
   "source": [
    "cool_map.add_vector(\n",
    "    \"https://github.com/opengeos/datasets/releases/download/world/countries.geojson\"\n",
    ")\n",
    "\n",
    "\n",
    "# if zoom_to_layer:\n",
    "#             bounds = gdf.total_bounds\n",
    "#             self.fit_bounds([[bounds[1], bounds[0]], [bounds[3], bounds[2]]])"
   ]
  },
  {
   "cell_type": "code",
   "execution_count": null,
   "metadata": {},
   "outputs": [],
   "source": [
    "cool_map.add_raster(\n",
    "    \"https://github.com/opengeos/data/releases/download/raster/Libya-2023-07-01.tif\"\n",
    ")"
   ]
  },
  {
   "cell_type": "code",
   "execution_count": null,
   "metadata": {},
   "outputs": [],
   "source": [
    "cool_map"
   ]
  },
  {
   "cell_type": "code",
   "execution_count": null,
   "metadata": {},
   "outputs": [],
   "source": [
    "m = foliumap.Map(height=600, center=[39.4948, -108.5492])\n",
    "# url = \"https://github.com/opengeos/data/releases/download/raster/Libya-2023-07-01.tif\"\n",
    "# url2 = \"https://github.com/opengeos/data/releases/download/raster/Libya-2023-09-13.tif\"\n",
    "m.add_split_map()\n",
    "m"
   ]
  },
  {
   "cell_type": "code",
   "execution_count": 10,
   "metadata": {},
   "outputs": [],
   "source": [
    "import gtlparser\n",
    "import geopandas as gpd\n",
    "import gtl2geojson"
   ]
  },
  {
   "cell_type": "code",
   "execution_count": 18,
   "metadata": {},
   "outputs": [
    {
     "data": {
      "text/html": [
       "<div>\n",
       "<style scoped>\n",
       "    .dataframe tbody tr th:only-of-type {\n",
       "        vertical-align: middle;\n",
       "    }\n",
       "\n",
       "    .dataframe tbody tr th {\n",
       "        vertical-align: top;\n",
       "    }\n",
       "\n",
       "    .dataframe thead th {\n",
       "        text-align: right;\n",
       "    }\n",
       "</style>\n",
       "<table border=\"1\" class=\"dataframe\">\n",
       "  <thead>\n",
       "    <tr style=\"text-align: right;\">\n",
       "      <th></th>\n",
       "      <th>startTime</th>\n",
       "      <th>endTime</th>\n",
       "      <th>hierarchyLevel</th>\n",
       "      <th>probability</th>\n",
       "      <th>placeId</th>\n",
       "      <th>semanticType</th>\n",
       "      <th>topCadidate_probability</th>\n",
       "      <th>geometry</th>\n",
       "    </tr>\n",
       "  </thead>\n",
       "  <tbody>\n",
       "    <tr>\n",
       "      <th>0</th>\n",
       "      <td>2023-11-06 13:20:20-05:00</td>\n",
       "      <td>2023-11-06 17:36:03-05:00</td>\n",
       "      <td>0</td>\n",
       "      <td>0.92</td>\n",
       "      <td>ChIJIW9KquAXXIgRTCm1SKcUSQo</td>\n",
       "      <td>UNKNOWN</td>\n",
       "      <td>0.387854</td>\n",
       "      <td>POINT (-83.92946 35.9544)</td>\n",
       "    </tr>\n",
       "    <tr>\n",
       "      <th>1</th>\n",
       "      <td>2023-11-06 13:20:20-05:00</td>\n",
       "      <td>2023-11-06 14:43:10-05:00</td>\n",
       "      <td>1</td>\n",
       "      <td>0.92</td>\n",
       "      <td>ChIJJ-iuueAXXIgRDnqcKrbP4-c</td>\n",
       "      <td>UNKNOWN</td>\n",
       "      <td>0.764682</td>\n",
       "      <td>POINT (-83.92749 35.95656)</td>\n",
       "    </tr>\n",
       "    <tr>\n",
       "      <th>2</th>\n",
       "      <td>2023-11-06 18:06:37-05:00</td>\n",
       "      <td>2023-11-07 07:59:25-05:00</td>\n",
       "      <td>0</td>\n",
       "      <td>0.95</td>\n",
       "      <td>ChIJ4-yGKFUjXIgR_e5dkII1ldE</td>\n",
       "      <td>SEARCHED_ADDRESS</td>\n",
       "      <td>0.823960</td>\n",
       "      <td>POINT (-84.01435 35.93956)</td>\n",
       "    </tr>\n",
       "    <tr>\n",
       "      <th>3</th>\n",
       "      <td>2023-11-07 08:35:54-05:00</td>\n",
       "      <td>2023-11-07 17:25:51-05:00</td>\n",
       "      <td>0</td>\n",
       "      <td>0.93</td>\n",
       "      <td>ChIJIW9KquAXXIgRTCm1SKcUSQo</td>\n",
       "      <td>UNKNOWN</td>\n",
       "      <td>0.528461</td>\n",
       "      <td>POINT (-83.92946 35.9544)</td>\n",
       "    </tr>\n",
       "    <tr>\n",
       "      <th>4</th>\n",
       "      <td>2023-11-07 08:35:54-05:00</td>\n",
       "      <td>2023-11-07 12:43:34-05:00</td>\n",
       "      <td>1</td>\n",
       "      <td>0.93</td>\n",
       "      <td>ChIJJ-iuueAXXIgRDnqcKrbP4-c</td>\n",
       "      <td>UNKNOWN</td>\n",
       "      <td>0.862977</td>\n",
       "      <td>POINT (-83.92749 35.95656)</td>\n",
       "    </tr>\n",
       "    <tr>\n",
       "      <th>5</th>\n",
       "      <td>2023-11-07 17:52:50-05:00</td>\n",
       "      <td>2023-11-07 18:04:20-05:00</td>\n",
       "      <td>0</td>\n",
       "      <td>0.86</td>\n",
       "      <td>ChIJ4-yGKFUjXIgR_e5dkII1ldE</td>\n",
       "      <td>SEARCHED_ADDRESS</td>\n",
       "      <td>0.792019</td>\n",
       "      <td>POINT (-84.01435 35.93956)</td>\n",
       "    </tr>\n",
       "    <tr>\n",
       "      <th>6</th>\n",
       "      <td>2023-11-07 18:08:55-05:00</td>\n",
       "      <td>2023-11-07 18:21:39-05:00</td>\n",
       "      <td>0</td>\n",
       "      <td>0.75</td>\n",
       "      <td>ChIJiQn8dLokXIgRSiOBz3vHDF4</td>\n",
       "      <td>UNKNOWN</td>\n",
       "      <td>0.838372</td>\n",
       "      <td>POINT (-84.03132 35.93063)</td>\n",
       "    </tr>\n",
       "    <tr>\n",
       "      <th>7</th>\n",
       "      <td>2023-11-07 18:32:04-05:00</td>\n",
       "      <td>2023-11-07 20:06:50-05:00</td>\n",
       "      <td>0</td>\n",
       "      <td>0.91</td>\n",
       "      <td>ChIJ9T8CRNgkXIgRFeq1AJdDVpU</td>\n",
       "      <td>UNKNOWN</td>\n",
       "      <td>0.597545</td>\n",
       "      <td>POINT (-84.05599 35.92779)</td>\n",
       "    </tr>\n",
       "    <tr>\n",
       "      <th>8</th>\n",
       "      <td>2023-11-07 20:34:38-05:00</td>\n",
       "      <td>2023-11-08 10:16:03-05:00</td>\n",
       "      <td>0</td>\n",
       "      <td>0.94</td>\n",
       "      <td>ChIJ4-yGKFUjXIgR_e5dkII1ldE</td>\n",
       "      <td>SEARCHED_ADDRESS</td>\n",
       "      <td>0.802387</td>\n",
       "      <td>POINT (-84.01435 35.93956)</td>\n",
       "    </tr>\n",
       "  </tbody>\n",
       "</table>\n",
       "</div>"
      ],
      "text/plain": [
       "                  startTime                   endTime  hierarchyLevel  \\\n",
       "0 2023-11-06 13:20:20-05:00 2023-11-06 17:36:03-05:00               0   \n",
       "1 2023-11-06 13:20:20-05:00 2023-11-06 14:43:10-05:00               1   \n",
       "2 2023-11-06 18:06:37-05:00 2023-11-07 07:59:25-05:00               0   \n",
       "3 2023-11-07 08:35:54-05:00 2023-11-07 17:25:51-05:00               0   \n",
       "4 2023-11-07 08:35:54-05:00 2023-11-07 12:43:34-05:00               1   \n",
       "5 2023-11-07 17:52:50-05:00 2023-11-07 18:04:20-05:00               0   \n",
       "6 2023-11-07 18:08:55-05:00 2023-11-07 18:21:39-05:00               0   \n",
       "7 2023-11-07 18:32:04-05:00 2023-11-07 20:06:50-05:00               0   \n",
       "8 2023-11-07 20:34:38-05:00 2023-11-08 10:16:03-05:00               0   \n",
       "\n",
       "   probability                      placeId      semanticType  \\\n",
       "0         0.92  ChIJIW9KquAXXIgRTCm1SKcUSQo           UNKNOWN   \n",
       "1         0.92  ChIJJ-iuueAXXIgRDnqcKrbP4-c           UNKNOWN   \n",
       "2         0.95  ChIJ4-yGKFUjXIgR_e5dkII1ldE  SEARCHED_ADDRESS   \n",
       "3         0.93  ChIJIW9KquAXXIgRTCm1SKcUSQo           UNKNOWN   \n",
       "4         0.93  ChIJJ-iuueAXXIgRDnqcKrbP4-c           UNKNOWN   \n",
       "5         0.86  ChIJ4-yGKFUjXIgR_e5dkII1ldE  SEARCHED_ADDRESS   \n",
       "6         0.75  ChIJiQn8dLokXIgRSiOBz3vHDF4           UNKNOWN   \n",
       "7         0.91  ChIJ9T8CRNgkXIgRFeq1AJdDVpU           UNKNOWN   \n",
       "8         0.94  ChIJ4-yGKFUjXIgR_e5dkII1ldE  SEARCHED_ADDRESS   \n",
       "\n",
       "   topCadidate_probability                    geometry  \n",
       "0                 0.387854   POINT (-83.92946 35.9544)  \n",
       "1                 0.764682  POINT (-83.92749 35.95656)  \n",
       "2                 0.823960  POINT (-84.01435 35.93956)  \n",
       "3                 0.528461   POINT (-83.92946 35.9544)  \n",
       "4                 0.862977  POINT (-83.92749 35.95656)  \n",
       "5                 0.792019  POINT (-84.01435 35.93956)  \n",
       "6                 0.838372  POINT (-84.03132 35.93063)  \n",
       "7                 0.597545  POINT (-84.05599 35.92779)  \n",
       "8                 0.802387  POINT (-84.01435 35.93956)  "
      ]
     },
     "execution_count": 18,
     "metadata": {},
     "output_type": "execute_result"
    }
   ],
   "source": [
    "gpd.read_file(\"https://raw.githubusercontent.com/GGweelplay/gtlparser/main/docs/examples/example_point.geojson\")"
   ]
  },
  {
   "cell_type": "code",
   "execution_count": 19,
   "metadata": {},
   "outputs": [
    {
     "name": "stdout",
     "output_type": "stream",
     "text": [
      "Point\n",
      "{'radius': 5, 'color': 'blue', 'fillColor': '#3388ff', 'fillOpacity': 0.8, 'weight': 1} {'fillColor': 'red', 'fillOpacity': 1}\n"
     ]
    },
    {
     "data": {
      "application/vnd.jupyter.widget-view+json": {
       "model_id": "4935238bcfa4434f9f66a21382beec6b",
       "version_major": 2,
       "version_minor": 0
      },
      "text/plain": [
       "Map(center=[0, 0], controls=(ZoomControl(options=['position', 'zoom_in_text', 'zoom_in_title', 'zoom_out_text'…"
      ]
     },
     "execution_count": 19,
     "metadata": {},
     "output_type": "execute_result"
    }
   ],
   "source": [
    "Map1 = gtlparser.Map(center=(0, 0), zoom=2, scroll_wheel_zoom=True)\n",
    "\n",
    "Map1.add_geojson(\n",
    "    data=\"https://raw.githubusercontent.com/GGweelplay/gtlparser/main/docs/examples/example_point.geojson\"\n",
    ")\n",
    "Map1.add_layer_control()\n",
    "Map1"
   ]
  },
  {
   "cell_type": "code",
   "execution_count": null,
   "metadata": {},
   "outputs": [],
   "source": [
    "Map2 = ipyleaflet.Map(center=(0, 0), zoom=2)\n",
    "gdf = gpd.read_file(\"line_timeline_path.geojson\")\n",
    "gdf\n",
    "geojson = gdf.__geo_interface__\n",
    "\n",
    "layer = ipyleaflet.GeoJSON(data=geojson)\n",
    "Map2.add(layer)\n",
    "Map2.add_layer_control()\n",
    "Map2.add_widget()"
   ]
  }
 ],
 "metadata": {
  "kernelspec": {
   "display_name": "Python 3",
   "language": "python",
   "name": "python3"
  },
  "language_info": {
   "codemirror_mode": {
    "name": "ipython",
    "version": 3
   },
   "file_extension": ".py",
   "mimetype": "text/x-python",
   "name": "python",
   "nbconvert_exporter": "python",
   "pygments_lexer": "ipython3",
   "version": "3.12.0"
  }
 },
 "nbformat": 4,
 "nbformat_minor": 2
}
