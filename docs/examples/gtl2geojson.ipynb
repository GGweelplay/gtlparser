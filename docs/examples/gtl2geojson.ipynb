{
 "cells": [
  {
   "cell_type": "markdown",
   "id": "0",
   "metadata": {},
   "source": [
    "# Read Google Timeline data From JSON and Convert it to GeoJSON file"
   ]
  },
  {
   "cell_type": "code",
   "execution_count": null,
   "id": "1",
   "metadata": {
    "vscode": {
     "languageId": "plaintext"
    }
   },
   "outputs": [],
   "source": [
    "# [![Open In Colab](https://colab.research.google.com/assets/colab-badge.svg)](https://colab.research.google.com/github/GGweelplay/gtlparser/blob/main/docs/examples/basemap.ipynb)"
   ]
  },
  {
   "cell_type": "code",
   "execution_count": null,
   "id": "2",
   "metadata": {
    "vscode": {
     "languageId": "plaintext"
    }
   },
   "outputs": [],
   "source": [
    "import gtlparser"
   ]
  },
  {
   "cell_type": "code",
   "execution_count": null,
   "id": "3",
   "metadata": {
    "vscode": {
     "languageId": "plaintext"
    }
   },
   "outputs": [],
   "source": [
    "in_json = \"example_timeline.json\"\n",
    "json_data = json.loads(open(in_json, encoding=\"utf8\").read())"
   ]
  },
  {
   "cell_type": "code",
   "execution_count": null,
   "id": "4",
   "metadata": {
    "vscode": {
     "languageId": "plaintext"
    }
   },
   "outputs": [],
   "source": [
    "point_features = parse_visitPoint(json_data, flag_allField=1)\n",
    "line_features = parse_timelinePath(json_data)"
   ]
  },
  {
   "cell_type": "code",
   "execution_count": null,
   "id": "5",
   "metadata": {
    "vscode": {
     "languageId": "plaintext"
    }
   },
   "outputs": [],
   "source": [
    "create_geojson_file(\".\", \"visit_points\", point_features, flag_point=True)\n",
    "create_geojson_file(\".\", \"timeline_path\", line_features, flag_point=False)"
   ]
  },
  {
   "cell_type": "code",
   "execution_count": null,
   "id": "6",
   "metadata": {
    "vscode": {
     "languageId": "plaintext"
    }
   },
   "outputs": [],
   "source": [
    "ap1 = ipyleaflet.Map(center=(0, 0), zoom=2, scroll_wheel_zoom=True)\n",
    "gdf = gpd.read_file(\"point_visit_points.geojson\")\n",
    "geojson = gdf[:5].__geo_interface__\n",
    "\n",
    "layer = ipyleaflet.GeoJSON(\n",
    "    data=geojson,\n",
    "    point_style={  # Style for points\n",
    "        \"radius\": 5,\n",
    "        \"color\": \"blue\",\n",
    "        \"fillColor\": \"#3388ff\",\n",
    "        \"fillOpacity\": 0.8,\n",
    "        \"weight\": 1,\n",
    "    },\n",
    "    hover_style={\"fillColor\": \"red\", \"fillOpacity\": 1},  # Style when hovered\n",
    ")\n",
    "Map1.add_control(info_control)\n",
    "layer.on_hover(hover_handler_point)\n",
    "Map1.add(layer)\n",
    "Map1"
   ]
  },
  {
   "cell_type": "code",
   "execution_count": null,
   "id": "7",
   "metadata": {
    "vscode": {
     "languageId": "plaintext"
    }
   },
   "outputs": [],
   "source": [
    "Map2 = ipyleaflet.Map(center=(0, 0), zoom=2, scroll_wheel_zoom=True)\n",
    "gdf = gpd.read_file(\"line_timeline_path.geojson\")\n",
    "geojson = gdf[:10].__geo_interface__\n",
    "layer_line = ipyleaflet.GeoJSON(\n",
    "    data=geojson,\n",
    "    style={\"color\": \"blue\", \"weight\": 3, \"opacity\": 0.8},  # Default style for lines\n",
    "    hover_style={  # Style when hovered\n",
    "        \"color\": \"red\",\n",
    "        \"weight\": 4,  # Make it slightly thicker on hover\n",
    "        \"opacity\": 1,\n",
    "    },\n",
    ")\n",
    "\n",
    "Map2.add_control(info_control)\n",
    "layer_line.on_hover(hover_handler_line)\n",
    "Map2.add(layer_line)\n",
    "Map2"
   ]
  }
 ],
 "metadata": {
  "language_info": {
   "name": "python"
  }
 },
 "nbformat": 4,
 "nbformat_minor": 5
}
