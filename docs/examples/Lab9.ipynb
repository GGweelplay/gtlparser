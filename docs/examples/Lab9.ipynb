{
 "cells": [
  {
   "cell_type": "markdown",
   "id": "a55e8b54",
   "metadata": {},
   "source": []
  },
  {
   "cell_type": "code",
   "execution_count": null,
   "id": "e7864532",
   "metadata": {
    "vscode": {
     "languageId": "plaintext"
    }
   },
   "outputs": [],
   "source": [
    "import gtlparser\n",
    "#[![Open In Colab](https://colab.research.google.com/assets/colab-badge.svg)](https://colab.research.google.com/github/GGweelplay/gtlparser/blob/main/docs/examples/Lab9.ipynb)"
   ]
  },
  {
   "cell_type": "markdown",
   "id": "6336dbec",
   "metadata": {},
   "source": [
    "## Question 1: Creating an Interactive Map"
   ]
  },
  {
   "cell_type": "code",
   "execution_count": null,
   "id": "f9a26975",
   "metadata": {
    "vscode": {
     "languageId": "plaintext"
    }
   },
   "outputs": [],
   "source": [
    "map1 = gtlparser.Map()\n",
    "map1.add_basemap_gui(position=\"topright\")\n",
    "map1.add_layer_control()\n",
    "map1.add_search_control(position=\"topleft\")\n",
    "map1"
   ]
  },
  {
   "cell_type": "markdown",
   "id": "eaf16182",
   "metadata": {},
   "source": [
    "## Question 2: Adding Map Legends"
   ]
  },
  {
   "cell_type": "code",
   "execution_count": null,
   "id": "fc031466",
   "metadata": {
    "vscode": {
     "languageId": "plaintext"
    }
   },
   "outputs": [],
   "source": [
    "import leafmap\n",
    "\n",
    "map2 = leafmap.Map()\n",
    "\n",
    "wms_url = \"https://services.terrascope.be/wms/v2?\"\n",
    "layer_name = \"WORLDCOVER_2021_MAP\"\n",
    "\n",
    "map2.add_wms_layer(\n",
    "    url=wms_url,\n",
    "    layers=layer_name,\n",
    "    name=\"ESA World Cover 2021\",\n",
    "    format=\"image/png\",\n",
    "    transparent=True,\n",
    "    shown=True,\n",
    "    version=\"1.3.0\" \n",
    ")\n",
    "\n",
    "map2.add_legend(builtin_legend='ESA_WorldCover')\n",
    "map2"
   ]
  },
  {
   "cell_type": "markdown",
   "id": "c2a490e9",
   "metadata": {},
   "source": [
    "## Question 3: Creating Marker Clusters"
   ]
  },
  {
   "cell_type": "code",
   "execution_count": null,
   "id": "531ba8b3",
   "metadata": {
    "vscode": {
     "languageId": "plaintext"
    }
   },
   "outputs": [],
   "source": [
    "import leafmap\n",
    "import geopandas as gpd\n",
    "import pandas as pd # geopandas relies on pandas\n",
    "\n",
    "geojson_url = \"https://github.com/opengeos/datasets/releases/download/places/wa_building_centroids.geojson\"\n",
    "\n",
    "gdf = gpd.read_file(geojson_url)\n",
    "\n",
    "gdf\n",
    "gdf['longitude'] = gdf.geometry.x\n",
    "gdf['latitude'] = gdf.geometry.y\n",
    "\n",
    "\n",
    "map3_1 = leafmap.Map()\n",
    "map3_1.add_marker_cluster(url, x=\"longitude\", y=\"latitude\", layer_name=\"World cities\")\n",
    "ma3_1"
   ]
  },
  {
   "cell_type": "code",
   "execution_count": null,
   "id": "9675d4b4",
   "metadata": {
    "vscode": {
     "languageId": "plaintext"
    }
   },
   "outputs": [],
   "source": [
    "map3_2 = leafmap.Map()\n",
    "map3_2.add_circle_markers_from_xy(\n",
    "    gdf,                  \n",
    "    x=\"longitude\",        \n",
    "    y=\"latitude\",         \n",
    "    radius=5,             \n",
    "    color=\"red\",          \n",
    "    fill_color=\"yellow\",  \n",
    "    fill_opacity=0.8,     \n",
    "    marker_cluster=True,  \n",
    ")\n",
    "map3_2"
   ]
  },
  {
   "cell_type": "markdown",
   "id": "f49f84be",
   "metadata": {},
   "source": [
    "## Question 4: Visualizing Vector Data"
   ]
  },
  {
   "cell_type": "code",
   "execution_count": null,
   "id": "e4ed9e1c",
   "metadata": {
    "vscode": {
     "languageId": "plaintext"
    }
   },
   "outputs": [],
   "source": [
    "geojson_url = \"https://github.com/opengeos/datasets/releases/download/places/wa_overture_buildings.geojson\"\n",
    "\n",
    "map4_1 = leafmap.Map()\n",
    "\n",
    "geojson_style = {\n",
    "    'color': 'red',\n",
    "    'weight': 2,\n",
    "    'fillOpacity': 0,\n",
    "}\n",
    "\n",
    "map4_1.add_geojson(\n",
    "    geojson_url,\n",
    "    style=geojson_style,\n",
    "    layer_name=\"Washington Buildings\" \n",
    ")\n",
    "\n",
    "map4_1"
   ]
  },
  {
   "cell_type": "code",
   "execution_count": null,
   "id": "d4fc97ff",
   "metadata": {
    "vscode": {
     "languageId": "plaintext"
    }
   },
   "outputs": [],
   "source": [
    "geojson_url = \"https://github.com/opengeos/datasets/releases/download/places/las_vegas_roads.geojson\"\n",
    "\n",
    "map4_2 = leafmap.Map()\n",
    "\n",
    "geojson_style = {\n",
    "    'color': 'red',\n",
    "    'weight': 2,\n",
    "}\n",
    "\n",
    "map4_2.add_geojson(\n",
    "    geojson_url,\n",
    "    style=geojson_style,\n",
    "    layer_name=\"Las Vegas Roads\" \n",
    ")\n",
    "\n",
    "map4_2"
   ]
  },
  {
   "cell_type": "code",
   "execution_count": null,
   "id": "e7e3b342",
   "metadata": {
    "vscode": {
     "languageId": "plaintext"
    }
   },
   "outputs": [],
   "source": [
    "map4_3_data = \"https://github.com/opengeos/datasets/releases/download/us/us_counties.geojson\"\n",
    "\n",
    "map4_3 = leafmap.Map(center=(40, -98), zoom=4)\n",
    "\n",
    "map4_3.add_data(\n",
    "    map4_3_data,\n",
    "    layer_name='US County Area (Census)', \n",
    "    column='CENSUSAREA',                                          \n",
    "    scheme='EqualInterval', \n",
    "    cmap=\"Blues\",              \n",
    "    legend=True,                         \n",
    "    legend_title='Census Area (sq mi)',                  \n",
    ")\n",
    "\n",
    "map4_3"
   ]
  },
  {
   "cell_type": "markdown",
   "id": "d64302a0",
   "metadata": {},
   "source": [
    "## Question 5: Creating a Split Map"
   ]
  },
  {
   "cell_type": "code",
   "execution_count": null,
   "id": "95530612",
   "metadata": {
    "vscode": {
     "languageId": "plaintext"
    }
   },
   "outputs": [],
   "source": [
    "pre_event_url = \"https://github.com/opengeos/datasets/releases/download/raster/Libya-2023-07-01.tif\"\n",
    "post_event_url = \"https://github.com/opengeos/datasets/releases/download/raster/Libya-2023-09-13.tif\"\n",
    "\n",
    "map5 = leafmap.Map()\n",
    "\n",
    "leafmap.split_map(left_layer=pre_event_url, right_layer=post_event_url)\n",
    "\n",
    "map5"
   ]
  }
 ],
 "metadata": {
  "language_info": {
   "name": "python"
  }
 },
 "nbformat": 4,
 "nbformat_minor": 5
}
