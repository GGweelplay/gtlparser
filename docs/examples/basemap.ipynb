{
 "cells": [
  {
   "cell_type": "markdown",
   "id": "69018054",
   "metadata": {},
   "source": [
    "[![Open In Colab](https://colab.research.google.com/assets/colab-badge.svg)](https://colab.research.google.com/github/GGweelplay/gtlparser/blob/main/docs/examples/basemap.ipynb)"
   ]
  },
  {
   "cell_type": "code",
   "execution_count": null,
   "id": "27d1892c",
   "metadata": {
    "vscode": {
     "languageId": "plaintext"
    }
   },
   "outputs": [],
   "source": [
    "import gtlparser"
   ]
  },
  {
   "cell_type": "code",
   "execution_count": null,
   "id": "d776e0fb",
   "metadata": {
    "vscode": {
     "languageId": "plaintext"
    }
   },
   "outputs": [],
   "source": [
    "cool_map = gtlparser.Map()"
   ]
  },
  {
   "cell_type": "code",
   "execution_count": null,
   "id": "796cdd56",
   "metadata": {
    "vscode": {
     "languageId": "plaintext"
    }
   },
   "outputs": [],
   "source": [
    "cool_map.add_basemap_gui(position=\"topright\")\n",
    "cool_map.add_layer_control()"
   ]
  },
  {
   "cell_type": "code",
   "execution_count": null,
   "id": "0ed059e6",
   "metadata": {
    "vscode": {
     "languageId": "plaintext"
    }
   },
   "outputs": [],
   "source": [
    "cool_map"
   ]
  }
 ],
 "metadata": {
  "language_info": {
   "name": "python"
  }
 },
 "nbformat": 4,
 "nbformat_minor": 5
}
